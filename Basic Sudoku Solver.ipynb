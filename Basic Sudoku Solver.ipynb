{
 "cells": [
  {
   "cell_type": "code",
   "execution_count": 26,
   "id": "bcef93ba",
   "metadata": {},
   "outputs": [],
   "source": [
    "# We need the following constraints\n",
    "# Uniqueness constraints:\n",
    "    # Row entries should be unique 1-9\n",
    "    # Col entries should be unique 1-9\n",
    "    # 3 x 3 entries should be unique 1-9"
   ]
  },
  {
   "cell_type": "code",
   "execution_count": 27,
   "id": "ab029348",
   "metadata": {},
   "outputs": [],
   "source": [
    "from pulp import *"
   ]
  },
  {
   "cell_type": "code",
   "execution_count": 4,
   "id": "7d8c5308",
   "metadata": {},
   "outputs": [],
   "source": [
    "rnge = range(0,9)\n",
    "Rows = list(rnge)\n",
    "Cols = list(rnge)"
   ]
  },
  {
   "cell_type": "code",
   "execution_count": 5,
   "id": "1c75feea",
   "metadata": {},
   "outputs": [],
   "source": [
    "possible_vals = LpVariable.dicts(\"PossibleVals\",(Rows,Cols,),1,9,LpInteger)"
   ]
  },
  {
   "cell_type": "code",
   "execution_count": 6,
   "id": "815ec1a5",
   "metadata": {},
   "outputs": [],
   "source": [
    "binaries = LpVariable.dicts(\"PossibleVals\",(Rows,Cols,range(36),range(3)),0,1,LpInteger)"
   ]
  },
  {
   "cell_type": "code",
   "execution_count": 7,
   "id": "9cbd200b",
   "metadata": {},
   "outputs": [],
   "source": [
    "C = 9 # C = X_max -1 + X_min"
   ]
  },
  {
   "cell_type": "code",
   "execution_count": 8,
   "id": "7115915d",
   "metadata": {},
   "outputs": [],
   "source": [
    "# Define the problem\n",
    "prob = LpProblem(\"SudokuProblem\",LpMinimize)\n",
    "# Add objective function\n",
    "prob += 0"
   ]
  },
  {
   "cell_type": "code",
   "execution_count": 9,
   "id": "e54f7dae",
   "metadata": {},
   "outputs": [],
   "source": [
    "Boxes =[]\n",
    "for i in range(3):\n",
    "    for j in range(3):\n",
    "        Boxes += [[(Rows[3*i+k],Cols[3*j+l]) for k in range(3) for l in range(3)]]"
   ]
  },
  {
   "cell_type": "code",
   "execution_count": 20,
   "id": "fa0520c2",
   "metadata": {},
   "outputs": [],
   "source": [
    "# Absolute value constraints or not natively linear, so to establish a \"not equal\"\n",
    "# Relation between two puzzle entries we need to do a work around\n",
    "# Using:\n",
    "# -(x_i - x_j) + C * Binary_ij >= 1\n",
    "# x_i - x_j + C* (1-Binary_ij) >= 1\n",
    "# We need to create n(n-1)/2 pair-wise comparisons for each system (i.e. each row/col/box)\n",
    "# Hence, we need 3*(9*36) constraints.\n",
    "# This method is less efficient than the boolean way of solving the sudoku puzzle but\n",
    "# I believe it is more intuitive when you are coming from a Mathematical background rather than natively \n",
    "# a programming background."
   ]
  },
  {
   "cell_type": "code",
   "execution_count": 21,
   "id": "bf3800a9",
   "metadata": {},
   "outputs": [],
   "source": [
    "# This adds all the constraints for each Row, Col, Box\n",
    "for r in Rows:\n",
    "    counter = 0\n",
    "    for c in Cols[:-1]:\n",
    "        i = c\n",
    "        while i < Cols[-1]:\n",
    "            prob += lpSum([-possible_vals[r][c],possible_vals[r][i+1]]) + C*binaries[r][i+1][counter][0] >=1\n",
    "            prob += lpSum([possible_vals[r][c],-possible_vals[r][i+1]]) + C*(1-binaries[r][i+1][counter][0]) >=1\n",
    "            i+=1\n",
    "            counter+=1\n",
    "for c in Cols:\n",
    "    counter = 0\n",
    "    for r in Rows[:-1]:\n",
    "        i = r\n",
    "        while i < Rows[-1]:\n",
    "            prob += lpSum([-possible_vals[r][c],possible_vals[i+1][c]]) + C*binaries[i+1][c][counter][1] >=1\n",
    "            prob += lpSum([possible_vals[r][c],-possible_vals[i+1][c]]) + C*(1-binaries[i+1][c][counter][1]) >=1\n",
    "            i+=1\n",
    "            counter+=1\n",
    "for j in range(len(Boxes)):\n",
    "    counter=0\n",
    "    for i in range(0,len(Boxes[j])):\n",
    "        b1 = Boxes[j][i]\n",
    "        jj = i+1\n",
    "        while jj < len(Boxes[j]):\n",
    "            b2 = Boxes[j][jj]\n",
    "            prob += lpSum([-possible_vals[b1[0]][b1[1]],possible_vals[b2[0]][b2[1]]]) + C*binaries[b1[0]][b1[1]][counter][2] >=1\n",
    "            prob += lpSum([possible_vals[b1[0]][b1[1]],-possible_vals[b2[0]][b2[1]]]) + C*(1-binaries[b1[0]][b1[1]][counter][2]) >=1\n",
    "            counter+=1\n",
    "            jj+=1"
   ]
  },
  {
   "cell_type": "code",
   "execution_count": 24,
   "id": "7c156832",
   "metadata": {},
   "outputs": [],
   "source": [
    "# This is the initial state of a puzzle\n",
    "# This is the same puzzle found in the documentation page of PuLP\n",
    "prob += possible_vals[0][0] == 5,\"\"\n",
    "prob += possible_vals[1][0] == 6,\"\"\n",
    "prob += possible_vals[3][0] == 8,\"\"\n",
    "prob += possible_vals[4][0] == 4,\"\"\n",
    "prob += possible_vals[5][0] == 7,\"\"\n",
    "prob += possible_vals[0][1] == 3,\"\"\n",
    "prob += possible_vals[2][1] == 9,\"\"\n",
    "prob += possible_vals[6][1] == 6,\"\"\n",
    "prob += possible_vals[2][2] == 8,\"\"\n",
    "prob += possible_vals[1][3] == 1,\"\"\n",
    "prob += possible_vals[4][3] == 8,\"\"\n",
    "prob += possible_vals[7][3] == 4,\"\"\n",
    "prob += possible_vals[0][4] == 7,\"\"\n",
    "prob += possible_vals[1][4] == 9,\"\"\n",
    "prob += possible_vals[3][4] == 6,\"\"\n",
    "prob += possible_vals[5][4] == 2,\"\"\n",
    "prob += possible_vals[7][4] == 1,\"\"\n",
    "prob += possible_vals[8][4] == 8,\"\"\n",
    "prob += possible_vals[1][5] == 5,\"\"\n",
    "prob += possible_vals[4][5] == 3,\"\"\n",
    "prob += possible_vals[7][5] == 9,\"\"\n",
    "prob += possible_vals[6][6] == 2,\"\"\n",
    "prob += possible_vals[2][7] == 6,\"\"\n",
    "prob += possible_vals[6][7] == 8,\"\"\n",
    "prob += possible_vals[8][7] == 7,\"\"\n",
    "prob += possible_vals[3][8] == 3,\"\"\n",
    "prob += possible_vals[4][8] == 1,\"\"\n",
    "prob += possible_vals[5][8] == 6,\"\"\n",
    "prob += possible_vals[7][8] == 5,\"\"\n",
    "prob += possible_vals[8][8] == 9,\"\""
   ]
  },
  {
   "cell_type": "code",
   "execution_count": 13,
   "id": "a2c89031",
   "metadata": {},
   "outputs": [
    {
     "data": {
      "text/plain": [
       "1"
      ]
     },
     "execution_count": 13,
     "metadata": {},
     "output_type": "execute_result"
    }
   ],
   "source": [
    "prob.solve()"
   ]
  },
  {
   "cell_type": "code",
   "execution_count": 14,
   "id": "0baf02d1",
   "metadata": {},
   "outputs": [
    {
     "name": "stdout",
     "output_type": "stream",
     "text": [
      "Status: Optimal\n"
     ]
    }
   ],
   "source": [
    "print(\"Status:\", LpStatus[prob.status])"
   ]
  },
  {
   "cell_type": "code",
   "execution_count": 16,
   "id": "481ef74a",
   "metadata": {},
   "outputs": [],
   "source": [
    "with open('sudokuout.txt', 'w') as sudokuout:\n",
    "    for r in Rows:\n",
    "        if r == 0 or r == 3 or r == 6:\n",
    "            sudokuout.write(\"+-------+-------+-------+\\n\")\n",
    "        for c in Cols:             \n",
    "            if c == 0 or c == 3 or c == 6:\n",
    "                sudokuout.write(\"| \")\n",
    "            sudokuout.write(str(value(possible_vals[r][c])) + \" \")\n",
    "            if c == 8:\n",
    "                sudokuout.write(\"|\\n\")\n",
    "    sudokuout.write(\"+-------+-------+-------+\")                    \n",
    "    sudokuout.close()\n"
   ]
  },
  {
   "cell_type": "code",
   "execution_count": 25,
   "id": "a9154697",
   "metadata": {},
   "outputs": [],
   "source": [
    "#+-------+-------+-------+\n",
    "#| 5.0 3.0 4.0 | 6.0 7.0 8.0 | 9.0 1.0 2.0 |\n",
    "#| 6.0 7.0 2.0 | 1.0 9.0 5.0 | 3.0 4.0 8.0 |\n",
    "#| 1.0 9.0 8.0 | 3.0 4.0 2.0 | 5.0 6.0 7.0 |\n",
    "#+-------+-------+-------+\n",
    "#| 8.0 5.0 9.0 | 7.0 6.0 1.0 | 4.0 2.0 3.0 |\n",
    "#| 4.0 2.0 6.0 | 8.0 5.0 3.0 | 7.0 9.0 1.0 |\n",
    "#| 7.0 1.0 3.0 | 9.0 2.0 4.0 | 8.0 5.0 6.0 |\n",
    "#+-------+-------+-------+\n",
    "#| 9.0 6.0 1.0 | 5.0 3.0 7.0 | 2.0 8.0 4.0 |\n",
    "#| 2.0 8.0 7.0 | 4.0 1.0 9.0 | 6.0 3.0 5.0 |\n",
    "#| 3.0 4.0 5.0 | 2.0 8.0 6.0 | 1.0 7.0 9.0 |\n",
    "#+-------+-------+-------+"
   ]
  }
 ],
 "metadata": {
  "kernelspec": {
   "display_name": "Python 3",
   "language": "python",
   "name": "python3"
  },
  "language_info": {
   "codemirror_mode": {
    "name": "ipython",
    "version": 3
   },
   "file_extension": ".py",
   "mimetype": "text/x-python",
   "name": "python",
   "nbconvert_exporter": "python",
   "pygments_lexer": "ipython3",
   "version": "3.8.8"
  }
 },
 "nbformat": 4,
 "nbformat_minor": 5
}
